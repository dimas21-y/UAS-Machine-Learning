{
 "cells": [
  {
   "cell_type": "code",
   "execution_count": 2,
   "id": "ac2d9772-69c8-4996-8617-c2f0fb15abd9",
   "metadata": {},
   "outputs": [
    {
     "data": {
      "text/plain": [
       "['Tattoo Name On My Photo Editor',\n",
       " 'I Creative Idea',\n",
       " 'Install images with music to make video without Net - 2018',\n",
       " 'Canva: Poster, banner, card maker & graphic design',\n",
       " 'AJ Styles HD Wallpapers',\n",
       " 'HD Mickey Minnie Wallpapers',\n",
       " 'ibis Paint X',\n",
       " 'Mandala Coloring Book',\n",
       " 'Text on Photo - Fonteee',\n",
       " 'Garden Coloring Book']"
      ]
     },
     "execution_count": 2,
     "metadata": {},
     "output_type": "execute_result"
    }
   ],
   "source": [
    "import pandas as pd\n",
    "from sklearn.feature_extraction.text import TfidfVectorizer\n",
    "from sklearn.preprocessing import MinMaxScaler\n",
    "from sklearn.metrics.pairwise import cosine_similarity\n",
    "from sklearn.pipeline import make_pipeline\n",
    "from sklearn.compose import ColumnTransformer\n",
    "from sklearn.preprocessing import OneHotEncoder\n",
    "import numpy as np\n",
    "\n",
    "# Load dataset\n",
    "df = pd.read_csv(\"C:/Users/M Dimas Prayoga/Downloads/playstore/googleplaystore.csv\")\n",
    "\n",
    "# Drop rows with missing or invalid data\n",
    "df = df.dropna(subset=['App', 'Category', 'Genres', 'Content Rating', 'Rating', 'Size'])\n",
    "\n",
    "# Bersihkan data numerik\n",
    "def clean_size(size):\n",
    "    if 'M' in size:\n",
    "        return float(size.replace('M', '').replace(',', '').strip())\n",
    "    elif 'k' in size:\n",
    "        return float(size.replace('k', '').replace(',', '').strip()) / 1024\n",
    "    elif size == 'Varies with device':\n",
    "        return np.nan\n",
    "    else:\n",
    "        try:\n",
    "            return float(size)\n",
    "        except:\n",
    "            return np.nan\n",
    "\n",
    "df['Size'] = df['Size'].apply(clean_size)\n",
    "df = df.dropna(subset=['Size'])\n",
    "\n",
    "# Gunakan hanya kolom penting\n",
    "features = df[['App', 'Category', 'Genres', 'Content Rating', 'Rating', 'Size']].copy()\n",
    "\n",
    "# Gabungkan fitur kategori menjadi satu string\n",
    "features['text_features'] = (\n",
    "    features['Category'] + ' ' +\n",
    "    features['Genres'] + ' ' +\n",
    "    features['Content Rating']\n",
    ")\n",
    "\n",
    "# TF-IDF untuk fitur text\n",
    "tfidf = TfidfVectorizer()\n",
    "tfidf_matrix = tfidf.fit_transform(features['text_features'])\n",
    "\n",
    "# Scaling fitur numerik\n",
    "scaler = MinMaxScaler()\n",
    "numeric_features = scaler.fit_transform(features[['Rating', 'Size']])\n",
    "\n",
    "# Gabungkan semua fitur (sparse + dense)\n",
    "from scipy.sparse import hstack\n",
    "combined_features = hstack([tfidf_matrix, numeric_features])\n",
    "\n",
    "# Hitung similarity\n",
    "cos_sim = cosine_similarity(combined_features, combined_features)\n",
    "\n",
    "# Fungsi rekomendasi\n",
    "def recommend(app_name, top_n=5):\n",
    "    if app_name not in features['App'].values:\n",
    "        return f\"Aplikasi '{app_name}' tidak ditemukan.\"\n",
    "    \n",
    "    idx = features[features['App'] == app_name].index[0]\n",
    "    sim_scores = list(enumerate(cos_sim[idx]))\n",
    "    sim_scores = sorted(sim_scores, key=lambda x: x[1], reverse=True)\n",
    "    sim_scores = sim_scores[1:top_n+1]  # skip self match\n",
    "    \n",
    "    recommendations = [features.iloc[i[0]]['App'] for i in sim_scores]\n",
    "    return recommendations\n",
    "\n",
    "# Contoh penggunaan:\n",
    "recommend(\"Sketch - Draw & Paint\", top_n=10)\n"
   ]
  },
  {
   "cell_type": "code",
   "execution_count": null,
   "id": "c24b39cb-0c62-4532-94f1-f0031ffd0ba7",
   "metadata": {},
   "outputs": [],
   "source": []
  }
 ],
 "metadata": {
  "kernelspec": {
   "display_name": "Python 3 (ipykernel)",
   "language": "python",
   "name": "python3"
  },
  "language_info": {
   "codemirror_mode": {
    "name": "ipython",
    "version": 3
   },
   "file_extension": ".py",
   "mimetype": "text/x-python",
   "name": "python",
   "nbconvert_exporter": "python",
   "pygments_lexer": "ipython3",
   "version": "3.12.6"
  }
 },
 "nbformat": 4,
 "nbformat_minor": 5
}
